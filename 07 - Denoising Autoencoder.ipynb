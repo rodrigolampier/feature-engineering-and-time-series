{
 "cells": [
  {
   "cell_type": "markdown",
   "metadata": {},
   "source": [
    "# 07 - Denoising Autoencoder"
   ]
  },
  {
   "cell_type": "markdown",
   "metadata": {},
   "source": [
    "## Importação"
   ]
  },
  {
   "cell_type": "code",
   "execution_count": 1,
   "metadata": {},
   "outputs": [],
   "source": [
    "import pandas as pd\n",
    "import numpy as np\n",
    "%matplotlib inline\n",
    "from sklearn.metrics import median_absolute_error, mean_squared_error\n",
    "from sklearn.linear_model import Ridge\n",
    "from category_encoders import OneHotEncoder\n",
    "from sklearn.pipeline import make_pipeline"
   ]
  },
  {
   "cell_type": "markdown",
   "metadata": {},
   "source": [
    "## Carga dos Dados"
   ]
  },
  {
   "cell_type": "code",
   "execution_count": null,
   "metadata": {},
   "outputs": [],
   "source": [
    "train = pd.read_csv(\"data-processed/train.csv\")\n",
    "val = pd.read_csv(\"data-processed/val.csv\")\n",
    "\n",
    "train['DATE_TIME'] = pd.to_datetime(train['DATE_TIME'], format='%Y-%m-%d %H:%M:%S')\n",
    "val['DATE_TIME'] = pd.to_datetime(val['DATE_TIME'], format='%Y-%m-%d %H:%M:%S')"
   ]
  },
  {
   "cell_type": "code",
   "execution_count": null,
   "metadata": {},
   "outputs": [],
   "source": [
    "train2 = train.copy()\n",
    "train2['WEEKDAY'] = train2['DATE_TIME'].dt.weekday\n",
    "train2['HOUR'] = train2['DATE_TIME'].dt.hour\n",
    "train2['MINUTE'] = train2['DATE_TIME'].dt.minute\n",
    "\n",
    "val2 = val.copy()\n",
    "val2['WEEKDAY'] = val2['DATE_TIME'].dt.weekday\n",
    "val2['HOUR'] = val2['DATE_TIME'].dt.hour\n",
    "val2['MINUTE'] = val2['DATE_TIME'].dt.minute"
   ]
  },
  {
   "cell_type": "markdown",
   "metadata": {},
   "source": [
    "## Denoising Autoencoder"
   ]
  },
  {
   "cell_type": "code",
   "execution_count": null,
   "metadata": {},
   "outputs": [],
   "source": [
    "encoder = OneHotEncoder(cols=cats, use_cat_names=True)\n",
    "train2_ohe = encoder.fit_transform(train2[cats])\n",
    "val2_ohe = encoder.transform(val2[cats])\n",
    "\n",
    "import torch.nn as nn\n",
    "import torch\n",
    "import torch.optim as opt\n",
    "import torch.nn.functional as F\n",
    "\n",
    "train2_ohe.shape"
   ]
  },
  {
   "cell_type": "code",
   "execution_count": null,
   "metadata": {},
   "outputs": [],
   "source": [
    "class DenoisingAE(nn.Module):\n",
    "    def __init__(self):\n",
    "        super(DenoisingAE, self).__init__()\n",
    "\n",
    "        self.hid1 = nn.Linear(57, 100)\n",
    "        self.hid2 = nn.Linear(100, 20)\n",
    "        self.hid3 = nn.Linear(20, 100)\n",
    "        self.out = nn.Linear(100, 57)\n",
    "    \n",
    "    def forward(self, x, return_embeddings=False):\n",
    "        x = F.relu(self.hid1(x))\n",
    "        x = self.hid2(x)\n",
    "        \n",
    "        if return_embeddings:\n",
    "            return x\n",
    "        \n",
    "        x = F.relu(self.hid3(x))\n",
    "        x = self.out(x)\n",
    "        \n",
    "\n",
    "        return x"
   ]
  },
  {
   "cell_type": "code",
   "execution_count": null,
   "metadata": {},
   "outputs": [],
   "source": [
    "import numba\n",
    "from numba import float64\n",
    "from random import random"
   ]
  },
  {
   "cell_type": "code",
   "execution_count": null,
   "metadata": {},
   "outputs": [],
   "source": [
    "@numba.vectorize([float64(float64, float64)], target='parallel')\n",
    "def flip(x, p=0.5):\n",
    "    if random() < p:\n",
    "        if x == 1:\n",
    "            return 0\n",
    "        else: \n",
    "            return 1\n",
    "    return x\n",
    "    \n",
    "#flip_np = np.vectorize(flip)\n",
    "flip_np = flip"
   ]
  },
  {
   "cell_type": "code",
   "execution_count": null,
   "metadata": {},
   "outputs": [],
   "source": [
    "flip(np.array([1,1,1]), 0.5)"
   ]
  },
  {
   "cell_type": "code",
   "execution_count": null,
   "metadata": {},
   "outputs": [],
   "source": [
    "torch.manual_seed(0)\n",
    "net = DenoisingAE().cuda()\n",
    "criterion = nn.MSELoss()\n",
    "optimizer = opt.Adam(net.parameters(), lr=1e-4)\n",
    "\n",
    "\n",
    "x_true = torch.from_numpy(train2_ohe.values).cuda().float()\n",
    "for e in range(10000):\n",
    "    optimizer.zero_grad()\n",
    "    x_noisy = flip_np(train2_ohe.values, 0.1) #certamente tem uma forma melhor de fazer isso\n",
    "    x_noisy = torch.from_numpy(x_noisy).cuda().float()\n",
    "    \n",
    "    p = net(x_noisy).cuda()\n",
    "    loss = criterion(p, x_true)\n",
    "    #print(loss.item())\n",
    "    \n",
    "    loss.backward()\n",
    "    optimizer.step()\n",
    "    \n",
    "    p_numpy = p.cpu().detach().numpy()\n",
    "    if e % 500 == 0:\n",
    "        print(np.sqrt(mean_squared_error(train2_ohe, p_numpy)))\n",
    "        "
   ]
  },
  {
   "cell_type": "markdown",
   "metadata": {},
   "source": [
    "## Embedding to Tree"
   ]
  },
  {
   "cell_type": "code",
   "execution_count": null,
   "metadata": {},
   "outputs": [],
   "source": [
    "from sklearn.ensemble import RandomForestRegressor\n",
    "mdl = RandomForestRegressor(n_jobs=-1, random_state=0, n_estimators=100)\n",
    "\n",
    "x = torch.from_numpy(train2_ohe.values).cuda().float()\n",
    "Xtr = net(x,return_embeddings=True).detach().cpu().numpy()\n",
    "ytr = train2['Y4WIN']\n",
    "mdl.fit(Xtr,ytr)\n",
    "\n",
    "x = torch.from_numpy(val2_ohe.values).cuda().float()\n",
    "Xval =  net(x,return_embeddings=True).detach().cpu().numpy()\n",
    "\n",
    "p = mdl.predict(Xval)\n",
    "median_absolute_error(val2['Y4'], p)"
   ]
  },
  {
   "cell_type": "markdown",
   "metadata": {},
   "source": [
    "# Fim"
   ]
  }
 ],
 "metadata": {
  "kernelspec": {
   "display_name": "Python 3",
   "language": "python",
   "name": "python3"
  },
  "language_info": {
   "codemirror_mode": {
    "name": "ipython",
    "version": 3
   },
   "file_extension": ".py",
   "mimetype": "text/x-python",
   "name": "python",
   "nbconvert_exporter": "python",
   "pygments_lexer": "ipython3",
   "version": "3.8.5"
  }
 },
 "nbformat": 4,
 "nbformat_minor": 4
}
