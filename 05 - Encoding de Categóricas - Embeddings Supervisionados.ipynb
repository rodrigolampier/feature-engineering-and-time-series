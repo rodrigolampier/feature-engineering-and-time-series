{
 "cells": [
  {
   "cell_type": "markdown",
   "metadata": {},
   "source": [
    "# 05 - Encoding de Categóricas - Embeddings Supervisionados"
   ]
  },
  {
   "cell_type": "markdown",
   "metadata": {},
   "source": [
    "Embeddings é uma representação distribuida de algo que queremos representar. "
   ]
  },
  {
   "cell_type": "markdown",
   "metadata": {},
   "source": [
    "## Importação"
   ]
  },
  {
   "cell_type": "code",
   "execution_count": 4,
   "metadata": {},
   "outputs": [],
   "source": [
    "import pandas as pd\n",
    "import numpy as np\n",
    "%matplotlib inline\n",
    "from sklearn.metrics import median_absolute_error\n",
    "from sklearn.linear_model import Ridge\n",
    "from category_encoders import OneHotEncoder\n",
    "from sklearn.pipeline import make_pipeline"
   ]
  },
  {
   "cell_type": "markdown",
   "metadata": {},
   "source": [
    "## Carga dos Dados"
   ]
  },
  {
   "cell_type": "code",
   "execution_count": 3,
   "metadata": {},
   "outputs": [],
   "source": [
    "train = pd.read_csv(\"data-processed/train.csv\")\n",
    "val = pd.read_csv(\"data-processed/val.csv\")\n",
    "\n",
    "train['DATE_TIME'] = pd.to_datetime(train['DATE_TIME'], format='%Y-%m-%d %H:%M:%S')\n",
    "val['DATE_TIME'] = pd.to_datetime(val['DATE_TIME'], format='%Y-%m-%d %H:%M:%S')"
   ]
  },
  {
   "cell_type": "code",
   "execution_count": 5,
   "metadata": {},
   "outputs": [],
   "source": [
    "train2 = train.copy()\n",
    "train2['WEEKDAY'] = train2['DATE_TIME'].dt.weekday\n",
    "train2['HOUR'] = train2['DATE_TIME'].dt.hour\n",
    "train2['MINUTE'] = train2['DATE_TIME'].dt.minute\n",
    "\n",
    "val2 = val.copy()\n",
    "val2['WEEKDAY'] = val2['DATE_TIME'].dt.weekday\n",
    "val2['HOUR'] = val2['DATE_TIME'].dt.hour\n",
    "val2['MINUTE'] = val2['DATE_TIME'].dt.minute"
   ]
  },
  {
   "cell_type": "markdown",
   "metadata": {},
   "source": [
    "## Supervised Embeddings"
   ]
  },
  {
   "cell_type": "code",
   "execution_count": null,
   "metadata": {},
   "outputs": [],
   "source": [
    "from category_encoders import OrdinalEncoder\n",
    "\n",
    "encoder = OrdinalEncoder(cols=['SOURCE_KEY'])\n",
    "train2['SOURCE_KEY_ENCODED'] = encoder.fit_transform(train2[['SOURCE_KEY']]) + 1\n",
    "val2['SOURCE_KEY_ENCODED'] = encoder.transform(val2[['SOURCE_KEY']]) + 1\n",
    "\n",
    "cats = ['SOURCE_KEY_ENCODED', 'WEEKDAY','HOUR', 'MINUTE']"
   ]
  },
  {
   "cell_type": "code",
   "execution_count": null,
   "metadata": {},
   "outputs": [],
   "source": [
    "import torch.nn as nn\n",
    "import torch\n",
    "import torch.functional as  F\n",
    "import torch.optim as opt"
   ]
  },
  {
   "cell_type": "code",
   "execution_count": null,
   "metadata": {},
   "outputs": [],
   "source": [
    "train2['SOURCE_KEY_ENCODED'].unique()"
   ]
  },
  {
   "cell_type": "code",
   "execution_count": null,
   "metadata": {},
   "outputs": [],
   "source": [
    "class EmbeddingNet(nn.Module):\n",
    "    def __init__(self):\n",
    "        super(EmbeddingNet, self).__init__()\n",
    "        self.e_source_key = nn.Embedding(24, 2, padding_idx=0)\n",
    "    \n",
    "    def forward(self, x):\n",
    "        return self.e_source_key(x)"
   ]
  },
  {
   "cell_type": "code",
   "execution_count": null,
   "metadata": {},
   "outputs": [],
   "source": [
    "net = EmbeddingNet()"
   ]
  },
  {
   "cell_type": "code",
   "execution_count": null,
   "metadata": {},
   "outputs": [],
   "source": [
    "embeddings = net(torch.from_numpy(train2['SOURCE_KEY_ENCODED'].unique()).long())"
   ]
  },
  {
   "cell_type": "code",
   "execution_count": null,
   "metadata": {},
   "outputs": [],
   "source": [
    "embeddings"
   ]
  },
  {
   "cell_type": "code",
   "execution_count": null,
   "metadata": {},
   "outputs": [],
   "source": [
    "pd.DataFrame(embeddings.detach().numpy()).plot.scatter(x=0,y=1)"
   ]
  },
  {
   "cell_type": "markdown",
   "metadata": {},
   "source": [
    "## Todos os Embeddings"
   ]
  },
  {
   "cell_type": "markdown",
   "metadata": {},
   "source": [
    "Um para cada feature ou 1 para a combinação? teste!"
   ]
  },
  {
   "cell_type": "code",
   "execution_count": null,
   "metadata": {},
   "outputs": [],
   "source": [
    "class EmbeddingNet2(nn.Module):\n",
    "    def __init__(self):\n",
    "        super(EmbeddingNet2, self).__init__()\n",
    "        self.e_source_key = nn.Embedding(24, 2, padding_idx=0)\n",
    "        self.e_weekday = nn.Embedding(7, 2, padding_idx=0)\n",
    "        self.e_hour = nn.Embedding(24, 2, padding_idx=0)\n",
    "        self.e_minute = nn.Embedding(60, 2, padding_idx=0)\n",
    "        \n",
    "        self.out = nn.Linear(8, 1)\n",
    "    \n",
    "    def forward(self, x, return_embeddings=False):\n",
    "        e_source_key = self.e_source_key(x[:,0])\n",
    "        e_weekday = self.e_weekday(x[:,1])\n",
    "        e_hour = self.e_hour(x[:,2])\n",
    "        e_minute = self.e_minute(x[:,3])\n",
    "        \n",
    "        x = torch.cat([e_source_key, e_weekday, e_hour, e_minute], dim=-1)\n",
    "        #print(x.shape)\n",
    "        x = self.out(x)\n",
    "        \n",
    "        if return_embeddings:\n",
    "            return e_source_key, e_weekday, e_hour, e_minute\n",
    "        return x"
   ]
  },
  {
   "cell_type": "code",
   "execution_count": null,
   "metadata": {},
   "outputs": [],
   "source": [
    "net = EmbeddingNet2().cuda()\n",
    "criterion = nn.L1Loss()\n",
    "optimizer = opt.Adam(net.parameters(), lr=1e-4)\n",
    "\n",
    "y = torch.from_numpy(train2['Y4WIN'].values.reshape(-1,1))\n",
    "y_cuda = y.cuda()\n",
    "for e in range(5000):\n",
    "    optimizer.zero_grad()\n",
    "    x = torch.from_numpy(train2[cats].values).cuda()\n",
    "    p = net(x).cuda()\n",
    "    loss = criterion(p, y_cuda)\n",
    "    #print(loss.item())\n",
    "    \n",
    "    loss.backward()\n",
    "    optimizer.step()\n",
    "    \n",
    "    p_numpy = p.cpu().detach().numpy()\n",
    "    if e % 1000 == 0:\n",
    "        print(median_absolute_error(y, p_numpy))\n",
    "        \n",
    "# nem overfita, modelo underfitted, pouca capacidade"
   ]
  },
  {
   "cell_type": "code",
   "execution_count": null,
   "metadata": {},
   "outputs": [],
   "source": [
    "net(x, return_embeddings=True)"
   ]
  },
  {
   "cell_type": "markdown",
   "metadata": {},
   "source": [
    "## Embedding to Tree (Leaky)"
   ]
  },
  {
   "cell_type": "code",
   "execution_count": null,
   "metadata": {},
   "outputs": [],
   "source": [
    "from sklearn.ensemble import RandomForestRegressor\n",
    "mdl = RandomForestRegressor(n_jobs=-1, random_state=0, n_estimators=100)\n",
    "\n",
    "x = torch.from_numpy(train2[cats].values).cuda()\n",
    "Xtr = net(x,return_embeddings=True).detach().cpu().numpy()\n",
    "ytr = train2['Y4WIN']\n",
    "mdl.fit(Xtr,ytr)\n",
    "\n",
    "x = torch.from_numpy(val2[cats].fillna(0).values).long().cuda()\n",
    "Xval =  net(x,return_embeddings=True).detach().cpu().numpy()\n",
    "\n",
    "p = mdl.predict(Xval)\n",
    "median_absolute_error(val2['Y4'], p)"
   ]
  },
  {
   "cell_type": "markdown",
   "metadata": {},
   "source": [
    "## Hidden to Tree (Leaky)"
   ]
  },
  {
   "cell_type": "code",
   "execution_count": null,
   "metadata": {},
   "outputs": [],
   "source": [
    "from sklearn.ensemble import RandomForestRegressor\n",
    "mdl = RandomForestRegressor(n_jobs=-1, random_state=0, n_estimators=100)\n",
    "\n",
    "x = torch.from_numpy(train2[cats].values).cuda()\n",
    "Xtr = net(x,return_hid3=True).detach().cpu().numpy()\n",
    "ytr = train2['Y4WIN']\n",
    "mdl.fit(Xtr,ytr)\n",
    "\n",
    "x = torch.from_numpy(val2[cats].fillna(0).values).long().cuda()\n",
    "Xval =  net(x,return_hid3=True).detach().cpu().numpy()\n",
    "\n",
    "p = mdl.predict(Xval)\n",
    "median_absolute_error(val2['Y4'], p)"
   ]
  },
  {
   "cell_type": "markdown",
   "metadata": {},
   "source": [
    "# Fim"
   ]
  }
 ],
 "metadata": {
  "kernelspec": {
   "display_name": "Python 3",
   "language": "python",
   "name": "python3"
  },
  "language_info": {
   "codemirror_mode": {
    "name": "ipython",
    "version": 3
   },
   "file_extension": ".py",
   "mimetype": "text/x-python",
   "name": "python",
   "nbconvert_exporter": "python",
   "pygments_lexer": "ipython3",
   "version": "3.8.5"
  }
 },
 "nbformat": 4,
 "nbformat_minor": 4
}
