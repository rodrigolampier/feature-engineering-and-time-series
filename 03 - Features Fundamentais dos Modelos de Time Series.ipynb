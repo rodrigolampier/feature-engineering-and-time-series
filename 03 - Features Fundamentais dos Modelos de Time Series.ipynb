{
 "cells": [
  {
   "cell_type": "markdown",
   "metadata": {},
   "source": [
    "# 03 - Features Fundamentais dos Modelos de Time Series"
   ]
  },
  {
   "cell_type": "markdown",
   "metadata": {},
   "source": [
    "## Introdução"
   ]
  },
  {
   "cell_type": "markdown",
   "metadata": {},
   "source": [
    "Vamos ver as features mais basicas que devemos gerar ao fazer um trabalho de engenharia de atributos para series temporais."
   ]
  },
  {
   "cell_type": "markdown",
   "metadata": {},
   "source": [
    "## Importação"
   ]
  },
  {
   "cell_type": "code",
   "execution_count": 1,
   "metadata": {},
   "outputs": [],
   "source": [
    "import pandas as pd\n",
    "import numpy as np\n",
    "%matplotlib inline"
   ]
  },
  {
   "cell_type": "markdown",
   "metadata": {},
   "source": [
    "## Carga dos Dados"
   ]
  },
  {
   "cell_type": "markdown",
   "metadata": {},
   "source": [
    "Note que vamos utilizar os dados com Y de quatro pontos de diferença, vamos tentar prever Y 4 pontos a frente (cada ponto aqui é igual a 15 min, logo estamos tentando prever a geração de energia 1 hora a frente do momento atual)."
   ]
  },
  {
   "cell_type": "code",
   "execution_count": 3,
   "metadata": {},
   "outputs": [
    {
     "data": {
      "text/html": [
       "<div>\n",
       "<style scoped>\n",
       "    .dataframe tbody tr th:only-of-type {\n",
       "        vertical-align: middle;\n",
       "    }\n",
       "\n",
       "    .dataframe tbody tr th {\n",
       "        vertical-align: top;\n",
       "    }\n",
       "\n",
       "    .dataframe thead th {\n",
       "        text-align: right;\n",
       "    }\n",
       "</style>\n",
       "<table border=\"1\" class=\"dataframe\">\n",
       "  <thead>\n",
       "    <tr style=\"text-align: right;\">\n",
       "      <th></th>\n",
       "      <th>Unnamed: 0</th>\n",
       "      <th>DATE_TIME</th>\n",
       "      <th>PLANT_ID</th>\n",
       "      <th>SOURCE_KEY</th>\n",
       "      <th>DC_POWER</th>\n",
       "      <th>AC_POWER</th>\n",
       "      <th>DAILY_YIELD</th>\n",
       "      <th>TOTAL_YIELD</th>\n",
       "      <th>AMBIENT_TEMPERATURE</th>\n",
       "      <th>MODULE_TEMPERATURE</th>\n",
       "      <th>IRRADIATION</th>\n",
       "      <th>15M_YIELD</th>\n",
       "      <th>Y4</th>\n",
       "    </tr>\n",
       "  </thead>\n",
       "  <tbody>\n",
       "    <tr>\n",
       "      <th>50</th>\n",
       "      <td>50</td>\n",
       "      <td>2020-05-15 12:30:00</td>\n",
       "      <td>4135001</td>\n",
       "      <td>1BY6WEcLGh8j5v7</td>\n",
       "      <td>8517.000000</td>\n",
       "      <td>832.962500</td>\n",
       "      <td>2860.000000</td>\n",
       "      <td>6262419.000</td>\n",
       "      <td>32.147685</td>\n",
       "      <td>52.353255</td>\n",
       "      <td>0.649248</td>\n",
       "      <td>245.428571</td>\n",
       "      <td>158.142857</td>\n",
       "    </tr>\n",
       "    <tr>\n",
       "      <th>51</th>\n",
       "      <td>51</td>\n",
       "      <td>2020-05-15 12:45:00</td>\n",
       "      <td>4135001</td>\n",
       "      <td>1BY6WEcLGh8j5v7</td>\n",
       "      <td>8006.285714</td>\n",
       "      <td>783.557143</td>\n",
       "      <td>3062.000000</td>\n",
       "      <td>6262621.000</td>\n",
       "      <td>32.391420</td>\n",
       "      <td>50.631240</td>\n",
       "      <td>0.761243</td>\n",
       "      <td>202.000000</td>\n",
       "      <td>183.875000</td>\n",
       "    </tr>\n",
       "    <tr>\n",
       "      <th>52</th>\n",
       "      <td>52</td>\n",
       "      <td>2020-05-15 13:00:00</td>\n",
       "      <td>4135001</td>\n",
       "      <td>1BY6WEcLGh8j5v7</td>\n",
       "      <td>6089.375000</td>\n",
       "      <td>596.562500</td>\n",
       "      <td>3223.250000</td>\n",
       "      <td>6262782.250</td>\n",
       "      <td>32.622796</td>\n",
       "      <td>49.610768</td>\n",
       "      <td>0.416035</td>\n",
       "      <td>161.250000</td>\n",
       "      <td>209.839286</td>\n",
       "    </tr>\n",
       "    <tr>\n",
       "      <th>53</th>\n",
       "      <td>53</td>\n",
       "      <td>2020-05-15 13:15:00</td>\n",
       "      <td>4135001</td>\n",
       "      <td>1BY6WEcLGh8j5v7</td>\n",
       "      <td>6359.714286</td>\n",
       "      <td>623.042857</td>\n",
       "      <td>3384.857143</td>\n",
       "      <td>6262943.857</td>\n",
       "      <td>32.497064</td>\n",
       "      <td>47.011161</td>\n",
       "      <td>0.489244</td>\n",
       "      <td>161.607143</td>\n",
       "      <td>254.285714</td>\n",
       "    </tr>\n",
       "    <tr>\n",
       "      <th>54</th>\n",
       "      <td>54</td>\n",
       "      <td>2020-05-15 13:30:00</td>\n",
       "      <td>4135001</td>\n",
       "      <td>1BY6WEcLGh8j5v7</td>\n",
       "      <td>7588.000000</td>\n",
       "      <td>742.914286</td>\n",
       "      <td>3543.000000</td>\n",
       "      <td>6263102.000</td>\n",
       "      <td>32.524621</td>\n",
       "      <td>46.669863</td>\n",
       "      <td>0.574561</td>\n",
       "      <td>158.142857</td>\n",
       "      <td>207.142857</td>\n",
       "    </tr>\n",
       "  </tbody>\n",
       "</table>\n",
       "</div>"
      ],
      "text/plain": [
       "    Unnamed: 0           DATE_TIME  PLANT_ID       SOURCE_KEY     DC_POWER  \\\n",
       "50          50 2020-05-15 12:30:00   4135001  1BY6WEcLGh8j5v7  8517.000000   \n",
       "51          51 2020-05-15 12:45:00   4135001  1BY6WEcLGh8j5v7  8006.285714   \n",
       "52          52 2020-05-15 13:00:00   4135001  1BY6WEcLGh8j5v7  6089.375000   \n",
       "53          53 2020-05-15 13:15:00   4135001  1BY6WEcLGh8j5v7  6359.714286   \n",
       "54          54 2020-05-15 13:30:00   4135001  1BY6WEcLGh8j5v7  7588.000000   \n",
       "\n",
       "      AC_POWER  DAILY_YIELD  TOTAL_YIELD  AMBIENT_TEMPERATURE  \\\n",
       "50  832.962500  2860.000000  6262419.000            32.147685   \n",
       "51  783.557143  3062.000000  6262621.000            32.391420   \n",
       "52  596.562500  3223.250000  6262782.250            32.622796   \n",
       "53  623.042857  3384.857143  6262943.857            32.497064   \n",
       "54  742.914286  3543.000000  6263102.000            32.524621   \n",
       "\n",
       "    MODULE_TEMPERATURE  IRRADIATION   15M_YIELD          Y4  \n",
       "50           52.353255     0.649248  245.428571  158.142857  \n",
       "51           50.631240     0.761243  202.000000  183.875000  \n",
       "52           49.610768     0.416035  161.250000  209.839286  \n",
       "53           47.011161     0.489244  161.607143  254.285714  \n",
       "54           46.669863     0.574561  158.142857  207.142857  "
      ]
     },
     "execution_count": 3,
     "metadata": {},
     "output_type": "execute_result"
    }
   ],
   "source": [
    "full = pd.read_csv(\"data-processed/full_direct_df.csv\")\n",
    "full['DATE_TIME'] = pd.to_datetime(full['DATE_TIME'], format='%Y-%m-%d %H:%M:%S')\n",
    "full.sort_values(\"DATE_TIME\")\n",
    "full.iloc[50:55]"
   ]
  },
  {
   "cell_type": "markdown",
   "metadata": {},
   "source": [
    "## Split Dados"
   ]
  },
  {
   "cell_type": "code",
   "execution_count": 4,
   "metadata": {},
   "outputs": [
    {
     "name": "stderr",
     "output_type": "stream",
     "text": [
      "<ipython-input-4-b0f1ee3fd917>:1: FutureWarning: Treating datetime data as categorical rather than numeric in `.describe` is deprecated and will be removed in a future version of pandas. Specify `datetime_is_numeric=True` to silence this warning and adopt the future behavior now.\n",
      "  full['DATE_TIME'].describe()\n"
     ]
    },
    {
     "data": {
      "text/plain": [
       "count                   68690\n",
       "unique                   3154\n",
       "top       2020-05-25 15:45:00\n",
       "freq                       22\n",
       "first     2020-05-15 00:00:00\n",
       "last      2020-06-17 22:45:00\n",
       "Name: DATE_TIME, dtype: object"
      ]
     },
     "execution_count": 4,
     "metadata": {},
     "output_type": "execute_result"
    }
   ],
   "source": [
    "full['DATE_TIME'].describe()"
   ]
  },
  {
   "cell_type": "code",
   "execution_count": 5,
   "metadata": {},
   "outputs": [
    {
     "data": {
      "text/plain": [
       "DATE_TIME\n",
       "5    33112\n",
       "6    35578\n",
       "dtype: int64"
      ]
     },
     "execution_count": 5,
     "metadata": {},
     "output_type": "execute_result"
    }
   ],
   "source": [
    "full.groupby(full['DATE_TIME'].dt.month).size()"
   ]
  },
  {
   "cell_type": "code",
   "execution_count": 6,
   "metadata": {},
   "outputs": [
    {
     "data": {
      "text/plain": [
       "((33112, 13), (35578, 13))"
      ]
     },
     "execution_count": 6,
     "metadata": {},
     "output_type": "execute_result"
    }
   ],
   "source": [
    "split_date = \"2020-06-01\"\n",
    "\n",
    "train = full[full['DATE_TIME'] < split_date]\n",
    "val = full[full['DATE_TIME'] >= split_date]\n",
    "\n",
    "train.shape, val.shape"
   ]
  },
  {
   "cell_type": "markdown",
   "metadata": {},
   "source": [
    "## Baseline"
   ]
  },
  {
   "cell_type": "markdown",
   "metadata": {},
   "source": [
    "Nossa baseline vai ser a média simples dos dados agrupados."
   ]
  },
  {
   "cell_type": "code",
   "execution_count": 11,
   "metadata": {},
   "outputs": [
    {
     "data": {
      "text/html": [
       "<div>\n",
       "<style scoped>\n",
       "    .dataframe tbody tr th:only-of-type {\n",
       "        vertical-align: middle;\n",
       "    }\n",
       "\n",
       "    .dataframe tbody tr th {\n",
       "        vertical-align: top;\n",
       "    }\n",
       "\n",
       "    .dataframe thead th {\n",
       "        text-align: right;\n",
       "    }\n",
       "</style>\n",
       "<table border=\"1\" class=\"dataframe\">\n",
       "  <thead>\n",
       "    <tr style=\"text-align: right;\">\n",
       "      <th></th>\n",
       "      <th>WEEKDAY</th>\n",
       "      <th>HOUR</th>\n",
       "      <th>MINUTE</th>\n",
       "      <th>P</th>\n",
       "    </tr>\n",
       "  </thead>\n",
       "  <tbody>\n",
       "    <tr>\n",
       "      <th>0</th>\n",
       "      <td>0</td>\n",
       "      <td>0</td>\n",
       "      <td>0</td>\n",
       "      <td>0.000000</td>\n",
       "    </tr>\n",
       "    <tr>\n",
       "      <th>1</th>\n",
       "      <td>0</td>\n",
       "      <td>0</td>\n",
       "      <td>15</td>\n",
       "      <td>0.000000</td>\n",
       "    </tr>\n",
       "    <tr>\n",
       "      <th>2</th>\n",
       "      <td>0</td>\n",
       "      <td>0</td>\n",
       "      <td>30</td>\n",
       "      <td>0.000000</td>\n",
       "    </tr>\n",
       "    <tr>\n",
       "      <th>3</th>\n",
       "      <td>0</td>\n",
       "      <td>0</td>\n",
       "      <td>45</td>\n",
       "      <td>0.000000</td>\n",
       "    </tr>\n",
       "    <tr>\n",
       "      <th>4</th>\n",
       "      <td>0</td>\n",
       "      <td>1</td>\n",
       "      <td>0</td>\n",
       "      <td>0.000000</td>\n",
       "    </tr>\n",
       "    <tr>\n",
       "      <th>...</th>\n",
       "      <td>...</td>\n",
       "      <td>...</td>\n",
       "      <td>...</td>\n",
       "      <td>...</td>\n",
       "    </tr>\n",
       "    <tr>\n",
       "      <th>667</th>\n",
       "      <td>6</td>\n",
       "      <td>22</td>\n",
       "      <td>45</td>\n",
       "      <td>-539.571429</td>\n",
       "    </tr>\n",
       "    <tr>\n",
       "      <th>668</th>\n",
       "      <td>6</td>\n",
       "      <td>23</td>\n",
       "      <td>0</td>\n",
       "      <td>0.000000</td>\n",
       "    </tr>\n",
       "    <tr>\n",
       "      <th>669</th>\n",
       "      <td>6</td>\n",
       "      <td>23</td>\n",
       "      <td>15</td>\n",
       "      <td>0.000000</td>\n",
       "    </tr>\n",
       "    <tr>\n",
       "      <th>670</th>\n",
       "      <td>6</td>\n",
       "      <td>23</td>\n",
       "      <td>30</td>\n",
       "      <td>0.000000</td>\n",
       "    </tr>\n",
       "    <tr>\n",
       "      <th>671</th>\n",
       "      <td>6</td>\n",
       "      <td>23</td>\n",
       "      <td>45</td>\n",
       "      <td>0.000000</td>\n",
       "    </tr>\n",
       "  </tbody>\n",
       "</table>\n",
       "<p>672 rows × 4 columns</p>\n",
       "</div>"
      ],
      "text/plain": [
       "     WEEKDAY  HOUR  MINUTE           P\n",
       "0          0     0       0    0.000000\n",
       "1          0     0      15    0.000000\n",
       "2          0     0      30    0.000000\n",
       "3          0     0      45    0.000000\n",
       "4          0     1       0    0.000000\n",
       "..       ...   ...     ...         ...\n",
       "667        6    22      45 -539.571429\n",
       "668        6    23       0    0.000000\n",
       "669        6    23      15    0.000000\n",
       "670        6    23      30    0.000000\n",
       "671        6    23      45    0.000000\n",
       "\n",
       "[672 rows x 4 columns]"
      ]
     },
     "execution_count": 11,
     "metadata": {},
     "output_type": "execute_result"
    }
   ],
   "source": [
    "train2 = train.copy()\n",
    "\n",
    "train2['WEEKDAY'] = train2['DATE_TIME'].dt.weekday\n",
    "train2['HOUR'] = train2['DATE_TIME'].dt.hour\n",
    "train2['MINUTE'] = train2['DATE_TIME'].dt.minute\n",
    "\n",
    "base_pred = train2.groupby(['WEEKDAY','HOUR', 'MINUTE'], as_index=False)['Y4'].mean()\n",
    "base_pred = base_pred.rename(columns={\"Y4\": \"P\"}) # 15M_YIELD?\n",
    "\n",
    "base_pred"
   ]
  },
  {
   "cell_type": "code",
   "execution_count": 12,
   "metadata": {},
   "outputs": [
    {
     "data": {
      "text/html": [
       "<div>\n",
       "<style scoped>\n",
       "    .dataframe tbody tr th:only-of-type {\n",
       "        vertical-align: middle;\n",
       "    }\n",
       "\n",
       "    .dataframe tbody tr th {\n",
       "        vertical-align: top;\n",
       "    }\n",
       "\n",
       "    .dataframe thead th {\n",
       "        text-align: right;\n",
       "    }\n",
       "</style>\n",
       "<table border=\"1\" class=\"dataframe\">\n",
       "  <thead>\n",
       "    <tr style=\"text-align: right;\">\n",
       "      <th></th>\n",
       "      <th>Unnamed: 0</th>\n",
       "      <th>DATE_TIME</th>\n",
       "      <th>PLANT_ID</th>\n",
       "      <th>SOURCE_KEY</th>\n",
       "      <th>DC_POWER</th>\n",
       "      <th>AC_POWER</th>\n",
       "      <th>DAILY_YIELD</th>\n",
       "      <th>TOTAL_YIELD</th>\n",
       "      <th>AMBIENT_TEMPERATURE</th>\n",
       "      <th>MODULE_TEMPERATURE</th>\n",
       "      <th>IRRADIATION</th>\n",
       "      <th>15M_YIELD</th>\n",
       "      <th>Y4</th>\n",
       "      <th>WEEKDAY</th>\n",
       "      <th>HOUR</th>\n",
       "      <th>MINUTE</th>\n",
       "      <th>P</th>\n",
       "    </tr>\n",
       "  </thead>\n",
       "  <tbody>\n",
       "    <tr>\n",
       "      <th>0</th>\n",
       "      <td>1525</td>\n",
       "      <td>2020-06-01</td>\n",
       "      <td>4135001</td>\n",
       "      <td>1BY6WEcLGh8j5v7</td>\n",
       "      <td>0.0</td>\n",
       "      <td>0.0</td>\n",
       "      <td>829.000000</td>\n",
       "      <td>6377931.0</td>\n",
       "      <td>23.128673</td>\n",
       "      <td>20.464305</td>\n",
       "      <td>0.0</td>\n",
       "      <td>0.0</td>\n",
       "      <td>0.0</td>\n",
       "      <td>0</td>\n",
       "      <td>0</td>\n",
       "      <td>0</td>\n",
       "      <td>0.0</td>\n",
       "    </tr>\n",
       "    <tr>\n",
       "      <th>1</th>\n",
       "      <td>2196</td>\n",
       "      <td>2020-06-08</td>\n",
       "      <td>4135001</td>\n",
       "      <td>1BY6WEcLGh8j5v7</td>\n",
       "      <td>0.0</td>\n",
       "      <td>0.0</td>\n",
       "      <td>752.571429</td>\n",
       "      <td>6423750.0</td>\n",
       "      <td>23.316430</td>\n",
       "      <td>22.217734</td>\n",
       "      <td>0.0</td>\n",
       "      <td>0.0</td>\n",
       "      <td>0.0</td>\n",
       "      <td>0</td>\n",
       "      <td>0</td>\n",
       "      <td>0</td>\n",
       "      <td>0.0</td>\n",
       "    </tr>\n",
       "    <tr>\n",
       "      <th>2</th>\n",
       "      <td>2868</td>\n",
       "      <td>2020-06-15</td>\n",
       "      <td>4135001</td>\n",
       "      <td>1BY6WEcLGh8j5v7</td>\n",
       "      <td>0.0</td>\n",
       "      <td>0.0</td>\n",
       "      <td>0.000000</td>\n",
       "      <td>6467675.0</td>\n",
       "      <td>23.369126</td>\n",
       "      <td>22.693622</td>\n",
       "      <td>0.0</td>\n",
       "      <td>0.0</td>\n",
       "      <td>0.0</td>\n",
       "      <td>0</td>\n",
       "      <td>0</td>\n",
       "      <td>0</td>\n",
       "      <td>0.0</td>\n",
       "    </tr>\n",
       "    <tr>\n",
       "      <th>3</th>\n",
       "      <td>4646</td>\n",
       "      <td>2020-06-01</td>\n",
       "      <td>4135001</td>\n",
       "      <td>1IF53ai7Xc0U56Y</td>\n",
       "      <td>0.0</td>\n",
       "      <td>0.0</td>\n",
       "      <td>0.000000</td>\n",
       "      <td>6311432.0</td>\n",
       "      <td>23.128673</td>\n",
       "      <td>20.464305</td>\n",
       "      <td>0.0</td>\n",
       "      <td>0.0</td>\n",
       "      <td>0.0</td>\n",
       "      <td>0</td>\n",
       "      <td>0</td>\n",
       "      <td>0</td>\n",
       "      <td>0.0</td>\n",
       "    </tr>\n",
       "    <tr>\n",
       "      <th>4</th>\n",
       "      <td>5311</td>\n",
       "      <td>2020-06-08</td>\n",
       "      <td>4135001</td>\n",
       "      <td>1IF53ai7Xc0U56Y</td>\n",
       "      <td>0.0</td>\n",
       "      <td>0.0</td>\n",
       "      <td>0.000000</td>\n",
       "      <td>6363338.0</td>\n",
       "      <td>23.316430</td>\n",
       "      <td>22.217734</td>\n",
       "      <td>0.0</td>\n",
       "      <td>0.0</td>\n",
       "      <td>0.0</td>\n",
       "      <td>0</td>\n",
       "      <td>0</td>\n",
       "      <td>0</td>\n",
       "      <td>0.0</td>\n",
       "    </tr>\n",
       "  </tbody>\n",
       "</table>\n",
       "</div>"
      ],
      "text/plain": [
       "   Unnamed: 0  DATE_TIME  PLANT_ID       SOURCE_KEY  DC_POWER  AC_POWER  \\\n",
       "0        1525 2020-06-01   4135001  1BY6WEcLGh8j5v7       0.0       0.0   \n",
       "1        2196 2020-06-08   4135001  1BY6WEcLGh8j5v7       0.0       0.0   \n",
       "2        2868 2020-06-15   4135001  1BY6WEcLGh8j5v7       0.0       0.0   \n",
       "3        4646 2020-06-01   4135001  1IF53ai7Xc0U56Y       0.0       0.0   \n",
       "4        5311 2020-06-08   4135001  1IF53ai7Xc0U56Y       0.0       0.0   \n",
       "\n",
       "   DAILY_YIELD  TOTAL_YIELD  AMBIENT_TEMPERATURE  MODULE_TEMPERATURE  \\\n",
       "0   829.000000    6377931.0            23.128673           20.464305   \n",
       "1   752.571429    6423750.0            23.316430           22.217734   \n",
       "2     0.000000    6467675.0            23.369126           22.693622   \n",
       "3     0.000000    6311432.0            23.128673           20.464305   \n",
       "4     0.000000    6363338.0            23.316430           22.217734   \n",
       "\n",
       "   IRRADIATION  15M_YIELD   Y4  WEEKDAY  HOUR  MINUTE    P  \n",
       "0          0.0        0.0  0.0        0     0       0  0.0  \n",
       "1          0.0        0.0  0.0        0     0       0  0.0  \n",
       "2          0.0        0.0  0.0        0     0       0  0.0  \n",
       "3          0.0        0.0  0.0        0     0       0  0.0  \n",
       "4          0.0        0.0  0.0        0     0       0  0.0  "
      ]
     },
     "execution_count": 12,
     "metadata": {},
     "output_type": "execute_result"
    }
   ],
   "source": [
    "val2 = val.copy()\n",
    "\n",
    "val2['WEEKDAY'] = val2['DATE_TIME'].dt.weekday\n",
    "val2['HOUR'] = val2['DATE_TIME'].dt.hour\n",
    "val2['MINUTE'] = val2['DATE_TIME'].dt.minute\n",
    "\n",
    "val2 = pd.merge(val2, base_pred, on=['WEEKDAY', 'HOUR', 'MINUTE'])\n",
    "\n",
    "val2.head()"
   ]
  },
  {
   "cell_type": "code",
   "execution_count": 17,
   "metadata": {},
   "outputs": [
    {
     "name": "stdout",
     "output_type": "stream",
     "text": [
      "Erro:  3.613771830227013\n"
     ]
    },
    {
     "data": {
      "text/plain": [
       "<AxesSubplot:>"
      ]
     },
     "execution_count": 17,
     "metadata": {},
     "output_type": "execute_result"
    },
    {
     "data": {
      "image/png": "[encoded data removed]",
      "text/plain": [
       "<Figure size 432x288 with 1 Axes>"
      ]
     },
     "metadata": {
      "needs_background": "light"
     },
     "output_type": "display_data"
    }
   ],
   "source": [
    "from sklearn.metrics import median_absolute_error\n",
    "\n",
    "print(\"Erro: \", median_absolute_error(val2['Y4'], val2['P']))\n",
    "\n",
    "(val2['Y4']-val2['P']).hist(bins=20)"
   ]
  },
  {
   "cell_type": "markdown",
   "metadata": {},
   "source": [
    "## Baseline com Machine Learning"
   ]
  },
  {
   "cell_type": "markdown",
   "metadata": {},
   "source": [
    "Vamos também fazer um baseline com algum modelo de machine learning. "
   ]
  },
  {
   "cell_type": "code",
   "execution_count": 21,
   "metadata": {},
   "outputs": [
    {
     "name": "stdout",
     "output_type": "stream",
     "text": [
      "Erro:  7.092791687149965\n"
     ]
    }
   ],
   "source": [
    "features = ['DC_POWER', 'AC_POWER', 'AMBIENT_TEMPERATURE', 'MODULE_TEMPERATURE', 'IRRADIATION', '15M_YIELD']\n",
    "\n",
    "from sklearn.ensemble import RandomForestRegressor\n",
    "\n",
    "mdl = RandomForestRegressor(n_jobs=-1, random_state=0, n_estimators=100)\n",
    "\n",
    "Xtr, ytr = train[features].fillna(-1), train['Y4']\n",
    "\n",
    "mdl.fit(Xtr,ytr)\n",
    "\n",
    "p = mdl.predict(val[features].fillna(-1))\n",
    "\n",
    "# Nosso erro é bem maior que a outra baseline mais simples\n",
    "print(\"Erro: \", median_absolute_error(val['Y4'], p))"
   ]
  },
  {
   "cell_type": "markdown",
   "metadata": {},
   "source": [
    "## Lag"
   ]
  },
  {
   "cell_type": "markdown",
   "metadata": {},
   "source": [
    "Lag é um valor anterior da variável que estamos querendo prever (ou pode ser das outras variáveis tambem).\n",
    "\n",
    "Não podemos fazer lag com Y4 por que só teremos o valor dele daqui a 4 coletas. Isso é vazamento de dados: Temos o dado no nosso processo aqui, mas em produção esses dados não vão existir."
   ]
  },
  {
   "cell_type": "code",
   "execution_count": 25,
   "metadata": {},
   "outputs": [],
   "source": [
    "lags = [1, 4, 8, 16]\n",
    "\n",
    "train2 = list()\n",
    "new_features = set()\n",
    "\n",
    "features = ['DC_POWER', 'AC_POWER', 'AMBIENT_TEMPERATURE', 'MODULE_TEMPERATURE', 'IRRADIATION', '15M_YIELD']\n",
    "\n",
    "for source_key, source_key_df in train.groupby(\"SOURCE_KEY\"):\n",
    "    source_key_df = source_key_df.copy()\n",
    "    for f in features:\n",
    "        for l in lags:\n",
    "            new_features.add('LAG{}_{}'.format(l, f))\n",
    "            source_key_df['LAG{}_{}'.format(l, f)] = source_key_df[f].shift(l)\n",
    "        \n",
    "    train2.append(source_key_df)\n",
    "train2 = pd.concat(train2, ignore_index=True)\n",
    "\n",
    "\n",
    "val2 = list()\n",
    "for source_key, source_key_df in val.groupby(\"SOURCE_KEY\"):\n",
    "    source_key_df = source_key_df.copy()\n",
    "    for f in features:\n",
    "        for l in lags:\n",
    "            source_key_df['LAG{}_{}'.format(l, f)] = source_key_df[f].shift(l)\n",
    "        \n",
    "    val2.append(source_key_df)\n",
    "val2 = pd.concat(val2, ignore_index=True)"
   ]
  },
  {
   "cell_type": "code",
   "execution_count": 26,
   "metadata": {},
   "outputs": [
    {
     "name": "stdout",
     "output_type": "stream",
     "text": [
      "Erro:  7.259345245000496\n"
     ]
    }
   ],
   "source": [
    "features = ['DC_POWER', 'AC_POWER', 'AMBIENT_TEMPERATURE', 'MODULE_TEMPERATURE', 'IRRADIATION', '15M_YIELD'] + list(new_features)\n",
    "\n",
    "from sklearn.ensemble import RandomForestRegressor\n",
    "\n",
    "mdl = RandomForestRegressor(n_jobs=-1, random_state=0, n_estimators=100)\n",
    "\n",
    "Xtr, ytr = train2[features].fillna(-1), train2['Y4']\n",
    "\n",
    "mdl.fit(Xtr,ytr)\n",
    "\n",
    "p = mdl.predict(val2[features].fillna(-1))\n",
    "\n",
    "# Nosso erro ainda continua ruim, bem similar ao anterior\n",
    "print(\"Erro: \", median_absolute_error(val2['Y4'], p))"
   ]
  },
  {
   "cell_type": "markdown",
   "metadata": {},
   "source": [
    "## EXTRA: Leakage"
   ]
  },
  {
   "cell_type": "code",
   "execution_count": 27,
   "metadata": {},
   "outputs": [
    {
     "data": {
      "text/html": [
       "<div>\n",
       "<style scoped>\n",
       "    .dataframe tbody tr th:only-of-type {\n",
       "        vertical-align: middle;\n",
       "    }\n",
       "\n",
       "    .dataframe tbody tr th {\n",
       "        vertical-align: top;\n",
       "    }\n",
       "\n",
       "    .dataframe thead th {\n",
       "        text-align: right;\n",
       "    }\n",
       "</style>\n",
       "<table border=\"1\" class=\"dataframe\">\n",
       "  <thead>\n",
       "    <tr style=\"text-align: right;\">\n",
       "      <th></th>\n",
       "      <th>DATE_TIME</th>\n",
       "      <th>SOURCE_KEY</th>\n",
       "      <th>15M_YIELD</th>\n",
       "      <th>Y4</th>\n",
       "    </tr>\n",
       "  </thead>\n",
       "  <tbody>\n",
       "    <tr>\n",
       "      <th>15</th>\n",
       "      <td>2020-05-15 03:45:00</td>\n",
       "      <td>1BY6WEcLGh8j5v7</td>\n",
       "      <td>0.000000</td>\n",
       "      <td>0.000000</td>\n",
       "    </tr>\n",
       "    <tr>\n",
       "      <th>16</th>\n",
       "      <td>2020-05-15 04:00:00</td>\n",
       "      <td>1BY6WEcLGh8j5v7</td>\n",
       "      <td>0.000000</td>\n",
       "      <td>0.000000</td>\n",
       "    </tr>\n",
       "    <tr>\n",
       "      <th>17</th>\n",
       "      <td>2020-05-15 04:15:00</td>\n",
       "      <td>1BY6WEcLGh8j5v7</td>\n",
       "      <td>0.000000</td>\n",
       "      <td>0.000000</td>\n",
       "    </tr>\n",
       "    <tr>\n",
       "      <th>18</th>\n",
       "      <td>2020-05-15 04:30:00</td>\n",
       "      <td>1BY6WEcLGh8j5v7</td>\n",
       "      <td>0.000000</td>\n",
       "      <td>0.000000</td>\n",
       "    </tr>\n",
       "    <tr>\n",
       "      <th>19</th>\n",
       "      <td>2020-05-15 04:45:00</td>\n",
       "      <td>1BY6WEcLGh8j5v7</td>\n",
       "      <td>0.000000</td>\n",
       "      <td>0.000000</td>\n",
       "    </tr>\n",
       "    <tr>\n",
       "      <th>20</th>\n",
       "      <td>2020-05-15 05:00:00</td>\n",
       "      <td>1BY6WEcLGh8j5v7</td>\n",
       "      <td>0.000000</td>\n",
       "      <td>0.000000</td>\n",
       "    </tr>\n",
       "    <tr>\n",
       "      <th>21</th>\n",
       "      <td>2020-05-15 05:15:00</td>\n",
       "      <td>1BY6WEcLGh8j5v7</td>\n",
       "      <td>0.000000</td>\n",
       "      <td>2.625000</td>\n",
       "    </tr>\n",
       "    <tr>\n",
       "      <th>22</th>\n",
       "      <td>2020-05-15 05:30:00</td>\n",
       "      <td>1BY6WEcLGh8j5v7</td>\n",
       "      <td>0.000000</td>\n",
       "      <td>10.660714</td>\n",
       "    </tr>\n",
       "    <tr>\n",
       "      <th>23</th>\n",
       "      <td>2020-05-15 05:45:00</td>\n",
       "      <td>1BY6WEcLGh8j5v7</td>\n",
       "      <td>0.000000</td>\n",
       "      <td>21.589286</td>\n",
       "    </tr>\n",
       "    <tr>\n",
       "      <th>24</th>\n",
       "      <td>2020-05-15 06:00:00</td>\n",
       "      <td>1BY6WEcLGh8j5v7</td>\n",
       "      <td>0.000000</td>\n",
       "      <td>37.839286</td>\n",
       "    </tr>\n",
       "    <tr>\n",
       "      <th>25</th>\n",
       "      <td>2020-05-15 06:15:00</td>\n",
       "      <td>1BY6WEcLGh8j5v7</td>\n",
       "      <td>2.625000</td>\n",
       "      <td>43.535714</td>\n",
       "    </tr>\n",
       "    <tr>\n",
       "      <th>26</th>\n",
       "      <td>2020-05-15 06:30:00</td>\n",
       "      <td>1BY6WEcLGh8j5v7</td>\n",
       "      <td>10.660714</td>\n",
       "      <td>46.178571</td>\n",
       "    </tr>\n",
       "    <tr>\n",
       "      <th>27</th>\n",
       "      <td>2020-05-15 06:45:00</td>\n",
       "      <td>1BY6WEcLGh8j5v7</td>\n",
       "      <td>21.589286</td>\n",
       "      <td>43.946429</td>\n",
       "    </tr>\n",
       "    <tr>\n",
       "      <th>28</th>\n",
       "      <td>2020-05-15 07:00:00</td>\n",
       "      <td>1BY6WEcLGh8j5v7</td>\n",
       "      <td>37.839286</td>\n",
       "      <td>57.196429</td>\n",
       "    </tr>\n",
       "    <tr>\n",
       "      <th>29</th>\n",
       "      <td>2020-05-15 07:15:00</td>\n",
       "      <td>1BY6WEcLGh8j5v7</td>\n",
       "      <td>43.535714</td>\n",
       "      <td>96.303571</td>\n",
       "    </tr>\n",
       "  </tbody>\n",
       "</table>\n",
       "</div>"
      ],
      "text/plain": [
       "             DATE_TIME       SOURCE_KEY  15M_YIELD         Y4\n",
       "15 2020-05-15 03:45:00  1BY6WEcLGh8j5v7   0.000000   0.000000\n",
       "16 2020-05-15 04:00:00  1BY6WEcLGh8j5v7   0.000000   0.000000\n",
       "17 2020-05-15 04:15:00  1BY6WEcLGh8j5v7   0.000000   0.000000\n",
       "18 2020-05-15 04:30:00  1BY6WEcLGh8j5v7   0.000000   0.000000\n",
       "19 2020-05-15 04:45:00  1BY6WEcLGh8j5v7   0.000000   0.000000\n",
       "20 2020-05-15 05:00:00  1BY6WEcLGh8j5v7   0.000000   0.000000\n",
       "21 2020-05-15 05:15:00  1BY6WEcLGh8j5v7   0.000000   2.625000\n",
       "22 2020-05-15 05:30:00  1BY6WEcLGh8j5v7   0.000000  10.660714\n",
       "23 2020-05-15 05:45:00  1BY6WEcLGh8j5v7   0.000000  21.589286\n",
       "24 2020-05-15 06:00:00  1BY6WEcLGh8j5v7   0.000000  37.839286\n",
       "25 2020-05-15 06:15:00  1BY6WEcLGh8j5v7   2.625000  43.535714\n",
       "26 2020-05-15 06:30:00  1BY6WEcLGh8j5v7  10.660714  46.178571\n",
       "27 2020-05-15 06:45:00  1BY6WEcLGh8j5v7  21.589286  43.946429\n",
       "28 2020-05-15 07:00:00  1BY6WEcLGh8j5v7  37.839286  57.196429\n",
       "29 2020-05-15 07:15:00  1BY6WEcLGh8j5v7  43.535714  96.303571"
      ]
     },
     "execution_count": 27,
     "metadata": {},
     "output_type": "execute_result"
    }
   ],
   "source": [
    "train2[train2['SOURCE_KEY'] == '1BY6WEcLGh8j5v7'][['DATE_TIME', 'SOURCE_KEY','15M_YIELD','Y4']].iloc[15:30]"
   ]
  },
  {
   "cell_type": "markdown",
   "metadata": {},
   "source": [
    "## Dif"
   ]
  },
  {
   "cell_type": "markdown",
   "metadata": {},
   "source": [
    "No Lag apenas pegamos os valores anteriores. Já na diferenciação fazemos a subtração do valor atual com um valor passado (t-(t-1))."
   ]
  },
  {
   "cell_type": "code",
   "execution_count": 28,
   "metadata": {},
   "outputs": [],
   "source": [
    "lags = [1, 4, 8, 16]\n",
    "\n",
    "train2 = list()\n",
    "new_features = set()\n",
    "\n",
    "features = ['DC_POWER', 'AC_POWER', 'AMBIENT_TEMPERATURE', 'MODULE_TEMPERATURE', 'IRRADIATION', '15M_YIELD']\n",
    "\n",
    "for source_key, source_key_df in train.groupby(\"SOURCE_KEY\"):\n",
    "    source_key_df = source_key_df.copy()\n",
    "    for f in features:\n",
    "        for l in lags:\n",
    "            new_features.add('DIFF{}_{}'.format(l, f))\n",
    "            source_key_df['DIFF{}_{}'.format(l, f)] = source_key_df[f].diff(l)\n",
    "        \n",
    "    train2.append(source_key_df)\n",
    "train2 = pd.concat(train2, ignore_index=True)\n",
    "\n",
    "\n",
    "val2 = list()\n",
    "for source_key, source_key_df in val.groupby(\"SOURCE_KEY\"):\n",
    "    source_key_df = source_key_df.copy()\n",
    "    for f in features:\n",
    "        for l in lags:\n",
    "            source_key_df['DIFF{}_{}'.format(l, f)] = source_key_df[f].diff(l)\n",
    "        \n",
    "    val2.append(source_key_df)\n",
    "val2 = pd.concat(val2, ignore_index=True)"
   ]
  },
  {
   "cell_type": "code",
   "execution_count": 29,
   "metadata": {},
   "outputs": [
    {
     "name": "stdout",
     "output_type": "stream",
     "text": [
      "Erro:  7.3005357495000425\n"
     ]
    }
   ],
   "source": [
    "features = ['DC_POWER', 'AC_POWER', 'AMBIENT_TEMPERATURE', 'MODULE_TEMPERATURE', 'IRRADIATION', '15M_YIELD'] + list(new_features)\n",
    "\n",
    "from sklearn.ensemble import RandomForestRegressor\n",
    "\n",
    "mdl = RandomForestRegressor(n_jobs=-1, random_state=0, n_estimators=100)\n",
    "\n",
    "Xtr, ytr = train2[features].fillna(-1), train2['Y4']\n",
    "\n",
    "mdl.fit(Xtr,ytr)\n",
    "\n",
    "p = mdl.predict(val2[features].fillna(-1))\n",
    "\n",
    "# Não tivemos melhoria...\n",
    "# Isso indica que a taxa de mudança entre um registro e outro não parece ser importante\n",
    "# Lag por hora parece mais importante, ou seja, está fazendo mais sentido considerar os valores reais que estão mudando com o tempo\n",
    "print(\"Erro: \", median_absolute_error(val2['Y4'], p))"
   ]
  },
  {
   "cell_type": "markdown",
   "metadata": {},
   "source": [
    "## Rolling Statistics"
   ]
  },
  {
   "cell_type": "markdown",
   "metadata": {},
   "source": [
    "Pega os últimos n registros e cálcula alguma métrica com eles. Esse cálculo vai sendo feito em janelas."
   ]
  },
  {
   "cell_type": "code",
   "execution_count": 30,
   "metadata": {},
   "outputs": [],
   "source": [
    "lags = [1, 4, 8, 16]\n",
    "\n",
    "train2 = list()\n",
    "new_features = set()\n",
    "\n",
    "features = ['DC_POWER', 'AC_POWER', 'AMBIENT_TEMPERATURE', 'MODULE_TEMPERATURE', 'IRRADIATION', '15M_YIELD']\n",
    "\n",
    "for source_key, source_key_df in train.groupby(\"SOURCE_KEY\"):\n",
    "    source_key_df = source_key_df.copy()\n",
    "    for f in features:\n",
    "        for l in lags:\n",
    "            new_features.add('ROLL_MEAN{}_{}'.format(l, f))\n",
    "            source_key_df['ROLL_MEAN{}_{}'.format(l, f)] = source_key_df[f].rolling(l).mean()\n",
    "        \n",
    "    train2.append(source_key_df)\n",
    "train2 = pd.concat(train2, ignore_index=True)\n",
    "\n",
    "\n",
    "val2 = list()\n",
    "for source_key, source_key_df in val.groupby(\"SOURCE_KEY\"):\n",
    "    source_key_df = source_key_df.copy()\n",
    "    for f in features:\n",
    "        for l in lags:\n",
    "            source_key_df['ROLL_MEAN{}_{}'.format(l, f)] = source_key_df[f].rolling(l).mean()\n",
    "        \n",
    "    val2.append(source_key_df)\n",
    "val2 = pd.concat(val2, ignore_index=True)"
   ]
  },
  {
   "cell_type": "code",
   "execution_count": 32,
   "metadata": {},
   "outputs": [
    {
     "name": "stdout",
     "output_type": "stream",
     "text": [
      "Erro:  8.467565237340988\n"
     ]
    }
   ],
   "source": [
    "features = ['DC_POWER', 'AC_POWER', 'AMBIENT_TEMPERATURE', 'MODULE_TEMPERATURE', 'IRRADIATION', '15M_YIELD'] + list(new_features)\n",
    "\n",
    "from sklearn.ensemble import RandomForestRegressor\n",
    "\n",
    "mdl = RandomForestRegressor(n_jobs=-1, random_state=0, n_estimators=100)\n",
    "\n",
    "Xtr, ytr = train2[features].fillna(-1), train2['Y4']\n",
    "\n",
    "mdl.fit(Xtr,ytr)\n",
    "\n",
    "p = mdl.predict(val2[features].fillna(-1))\n",
    "\n",
    "# Nosso erro ficou ainda pior...\n",
    "print(\"Erro: \", median_absolute_error(val2['Y4'], p))"
   ]
  },
  {
   "cell_type": "markdown",
   "metadata": {},
   "source": [
    "## EXTRA: Current Minus Rolling (Delta Roll)"
   ]
  },
  {
   "cell_type": "markdown",
   "metadata": {},
   "source": [
    "Basicamente é o valor atual menos a métrica móvel que foi calculada."
   ]
  },
  {
   "cell_type": "code",
   "execution_count": 33,
   "metadata": {},
   "outputs": [],
   "source": [
    "lags = [1,4,8,16]\n",
    "\n",
    "train2 = list()\n",
    "new_features = set()\n",
    "\n",
    "features = ['DC_POWER', 'AC_POWER', 'AMBIENT_TEMPERATURE', 'MODULE_TEMPERATURE', 'IRRADIATION', '15M_YIELD']\n",
    "\n",
    "for source_key, source_key_df in train.groupby(\"SOURCE_KEY\"):\n",
    "    source_key_df = source_key_df.copy()\n",
    "    for f in features:\n",
    "        for l in lags:\n",
    "            new_features.add('DELTA_ROLL_MEAN{}_{}'.format(l, f))\n",
    "            source_key_df['DELTA_ROLL_MEAN{}_{}'.format(l, f)] = source_key_df[f] - source_key_df[f].rolling(l).mean()\n",
    "        \n",
    "    train2.append(source_key_df)\n",
    "train2 = pd.concat(train2, ignore_index=True)\n",
    "\n",
    "\n",
    "val2 = list()\n",
    "for source_key, source_key_df in val.groupby(\"SOURCE_KEY\"):\n",
    "    source_key_df = source_key_df.copy()\n",
    "    for f in features:\n",
    "        for l in lags:\n",
    "            source_key_df['DELTA_ROLL_MEAN{}_{}'.format(l, f)] = source_key_df[f] - source_key_df[f].rolling(l).mean()\n",
    "        \n",
    "    val2.append(source_key_df)\n",
    "val2 = pd.concat(val2, ignore_index=True)"
   ]
  },
  {
   "cell_type": "code",
   "execution_count": 35,
   "metadata": {},
   "outputs": [
    {
     "name": "stdout",
     "output_type": "stream",
     "text": [
      "Erro:  8.024126191444823\n"
     ]
    }
   ],
   "source": [
    "features = ['DC_POWER', 'AC_POWER', 'AMBIENT_TEMPERATURE', 'MODULE_TEMPERATURE', 'IRRADIATION', '15M_YIELD'] + list(new_features)\n",
    "\n",
    "from sklearn.ensemble import RandomForestRegressor\n",
    "\n",
    "mdl = RandomForestRegressor(n_jobs=-1, random_state=0, n_estimators=100)\n",
    "\n",
    "Xtr, ytr = train2[features].fillna(-1), train2['Y4']\n",
    "\n",
    "mdl.fit(Xtr,ytr)\n",
    "\n",
    "p = mdl.predict(val2[features].fillna(-1))\n",
    "\n",
    "# Foi menos pior que Rolling Statistics pura, mas ainda continua ruim\n",
    "print(\"Erro: \", median_absolute_error(val2['Y4'], p))"
   ]
  },
  {
   "cell_type": "markdown",
   "metadata": {},
   "source": [
    "## Componentes de Data Com Outras Features"
   ]
  },
  {
   "cell_type": "markdown",
   "metadata": {},
   "source": [
    "Extraímos algumas features do campo data. Ao adicionar componentes de datas, o modelo consegue captar mais facilmente padrões de sazonaliadades dos dados."
   ]
  },
  {
   "cell_type": "code",
   "execution_count": 37,
   "metadata": {},
   "outputs": [],
   "source": [
    "features = ['DC_POWER', 'AC_POWER', 'AMBIENT_TEMPERATURE', 'MODULE_TEMPERATURE', 'IRRADIATION', '15M_YIELD', \n",
    "            'WEEKDAY', 'HOUR', 'MINUTE']\n",
    "\n",
    "train2 = train.copy()\n",
    "train2['WEEKDAY'] = train2['DATE_TIME'].dt.weekday\n",
    "train2['HOUR'] = train2['DATE_TIME'].dt.hour\n",
    "train2['MINUTE'] = train2['DATE_TIME'].dt.minute\n",
    "\n",
    "val2 = val.copy()\n",
    "val2['WEEKDAY'] = val2['DATE_TIME'].dt.weekday\n",
    "val2['HOUR'] = val2['DATE_TIME'].dt.hour\n",
    "val2['MINUTE'] = val2['DATE_TIME'].dt.minute"
   ]
  },
  {
   "cell_type": "code",
   "execution_count": 39,
   "metadata": {},
   "outputs": [
    {
     "name": "stdout",
     "output_type": "stream",
     "text": [
      "Erro:  4.03928572099997\n"
     ]
    }
   ],
   "source": [
    "from sklearn.ensemble import RandomForestRegressor\n",
    "\n",
    "mdl = RandomForestRegressor(n_jobs=-1, random_state=0, n_estimators=100)\n",
    "\n",
    "Xtr, ytr = train2[features].fillna(-1), train2['Y4']\n",
    "\n",
    "mdl.fit(Xtr,ytr)\n",
    "\n",
    "p = mdl.predict(val2[features].fillna(-1))\n",
    "\n",
    "# Houve uma melhora considerável, apesar de não bater a primeira baseline\n",
    "print(\"Erro: \", median_absolute_error(val2['Y4'], p))"
   ]
  },
  {
   "cell_type": "markdown",
   "metadata": {},
   "source": [
    "## Componentes de Data Sem Outras Features"
   ]
  },
  {
   "cell_type": "code",
   "execution_count": 42,
   "metadata": {},
   "outputs": [],
   "source": [
    "features = ['WEEKDAY', 'HOUR', 'MINUTE']\n",
    "\n",
    "train2 = train.copy()\n",
    "train2['WEEKDAY'] = train2['DATE_TIME'].dt.weekday\n",
    "train2['HOUR'] = train2['DATE_TIME'].dt.hour\n",
    "train2['MINUTE'] = train2['DATE_TIME'].dt.minute\n",
    "\n",
    "val2 = val.copy()\n",
    "val2['WEEKDAY'] = val2['DATE_TIME'].dt.weekday\n",
    "val2['HOUR'] = val2['DATE_TIME'].dt.hour\n",
    "val2['MINUTE'] = val2['DATE_TIME'].dt.minute"
   ]
  },
  {
   "cell_type": "code",
   "execution_count": 43,
   "metadata": {},
   "outputs": [
    {
     "name": "stdout",
     "output_type": "stream",
     "text": [
      "Erro:  3.6152617739372404\n"
     ]
    }
   ],
   "source": [
    "from sklearn.ensemble import RandomForestRegressor\n",
    "\n",
    "mdl = RandomForestRegressor(n_jobs=-1, random_state=0, n_estimators=100)\n",
    "\n",
    "Xtr, ytr = train2[features].fillna(-1), train2['Y4']\n",
    "\n",
    "mdl.fit(Xtr,ytr)\n",
    "\n",
    "p = mdl.predict(val2[features].fillna(-1))\n",
    "\n",
    "# Chegou bem próximo a nossa baseline pura\n",
    "print(\"Erro: \", median_absolute_error(val2['Y4'], p))"
   ]
  },
  {
   "cell_type": "markdown",
   "metadata": {},
   "source": [
    "## EXTRA: Winsorize"
   ]
  },
  {
   "cell_type": "markdown",
   "metadata": {},
   "source": [
    "Aqui pegamos os valores mais altos e arredondamos para o valor mais alto que aceitamos. O mesmo é feito com valores mais baixos.\n",
    "\n",
    "Exempplo: Temos valores de 1 a 10, e não nos interessa tanto assim os valores (1, 2) e nem os valores (9, 10). Arredondamos os mais baixos para 3, e os mais altos para 8."
   ]
  },
  {
   "cell_type": "code",
   "execution_count": 50,
   "metadata": {},
   "outputs": [],
   "source": [
    "features = ['DC_POWER', 'AC_POWER', 'AMBIENT_TEMPERATURE', 'MODULE_TEMPERATURE', 'IRRADIATION', '15M_YIELD', \n",
    "            'WEEKDAY', 'HOUR', 'MINUTE']\n",
    "\n",
    "train2 = train.copy()\n",
    "train2['WEEKDAY'] = train2['DATE_TIME'].dt.weekday\n",
    "train2['HOUR'] = train2['DATE_TIME'].dt.hour\n",
    "train2['MINUTE'] = train2['DATE_TIME'].dt.minute\n",
    "\n",
    "winsor_lower = np.percentile(train2['Y4'], 1) # 0.1, 1, 5, 10?\n",
    "winsor_upper = np.percentile(train2['Y4'], 99)\n",
    "train2['Y4WIN'] = train2['Y4'].clip(lower=winsor_lower, upper=winsor_upper)\n",
    "\n",
    "val2 = val.copy()\n",
    "val2['WEEKDAY'] = val2['DATE_TIME'].dt.weekday\n",
    "val2['HOUR'] = val2['DATE_TIME'].dt.hour\n",
    "val2['MINUTE'] = val2['DATE_TIME'].dt.minute\n",
    "\n",
    "#val2['Y4WIN'] = val2['Y4'].clip(lower=winsor_lower, upper=winsor_upper)"
   ]
  },
  {
   "cell_type": "code",
   "execution_count": 51,
   "metadata": {},
   "outputs": [
    {
     "name": "stdout",
     "output_type": "stream",
     "text": [
      "Erro:  2.446878056058055\n"
     ]
    }
   ],
   "source": [
    "from sklearn.ensemble import RandomForestRegressor\n",
    "\n",
    "mdl = RandomForestRegressor(n_jobs=-1, random_state=0, n_estimators=100)\n",
    "\n",
    "Xtr, ytr = train2[features].fillna(-1), train2['Y4WIN']\n",
    "\n",
    "mdl.fit(Xtr,ytr)\n",
    "\n",
    "p = mdl.predict(val2[features].fillna(-1))\n",
    "\n",
    "# Tivemos uma melhora significativa no erro!\n",
    "print(\"Erro: \", median_absolute_error(val2['Y4'], p))"
   ]
  },
  {
   "cell_type": "markdown",
   "metadata": {},
   "source": [
    "## Grava Dados Tratados"
   ]
  },
  {
   "cell_type": "code",
   "execution_count": 53,
   "metadata": {},
   "outputs": [
    {
     "name": "stderr",
     "output_type": "stream",
     "text": [
      "<ipython-input-53-5169a1fc621b>:3: SettingWithCopyWarning: \n",
      "A value is trying to be set on a copy of a slice from a DataFrame.\n",
      "Try using .loc[row_indexer,col_indexer] = value instead\n",
      "\n",
      "See the caveats in the documentation: https://pandas.pydata.org/pandas-docs/stable/user_guide/indexing.html#returning-a-view-versus-a-copy\n",
      "  train['Y4WIN'] = train['Y4'].clip(lower=winsor_lower, upper=winsor_upper)\n"
     ]
    }
   ],
   "source": [
    "winsor_lower = np.percentile(train['Y4'], 1) # 0.1, 1, 5, 10?\n",
    "winsor_upper = np.percentile(train['Y4'], 99)\n",
    "train['Y4WIN'] = train['Y4'].clip(lower=winsor_lower, upper=winsor_upper)"
   ]
  },
  {
   "cell_type": "code",
   "execution_count": 54,
   "metadata": {},
   "outputs": [],
   "source": [
    "train.reset_index().to_csv(\"data-processed/train.csv\")\n",
    "val.reset_index().to_csv(\"data-processed/val.csv\")"
   ]
  },
  {
   "cell_type": "markdown",
   "metadata": {},
   "source": [
    "# Fim"
   ]
  }
 ],
 "metadata": {
  "kernelspec": {
   "display_name": "Python 3",
   "language": "python",
   "name": "python3"
  },
  "language_info": {
   "codemirror_mode": {
    "name": "ipython",
    "version": 3
   },
   "file_extension": ".py",
   "mimetype": "text/x-python",
   "name": "python",
   "nbconvert_exporter": "python",
   "pygments_lexer": "ipython3",
   "version": "3.8.5"
  }
 },
 "nbformat": 4,
 "nbformat_minor": 4
}
